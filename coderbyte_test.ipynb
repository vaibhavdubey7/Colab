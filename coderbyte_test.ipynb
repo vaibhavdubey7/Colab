{
  "nbformat": 4,
  "nbformat_minor": 0,
  "metadata": {
    "colab": {
      "provenance": [],
      "authorship_tag": "ABX9TyNlIhIxzYSh/XpSaET+FTv+",
      "include_colab_link": true
    },
    "kernelspec": {
      "name": "python3",
      "display_name": "Python 3"
    },
    "language_info": {
      "name": "python"
    }
  },
  "cells": [
    {
      "cell_type": "markdown",
      "metadata": {
        "id": "view-in-github",
        "colab_type": "text"
      },
      "source": [
        "<a href=\"https://colab.research.google.com/github/vaibhavdubey7/Colab/blob/main/coderbyte_test.ipynb\" target=\"_parent\"><img src=\"https://colab.research.google.com/assets/colab-badge.svg\" alt=\"Open In Colab\"/></a>"
      ]
    },
    {
      "cell_type": "code",
      "execution_count": null,
      "metadata": {
        "colab": {
          "base_uri": "https://localhost:8080/"
        },
        "id": "OGGCAalYINm2",
        "outputId": "46821bc5-1f32-4159-9c89-18e71198b5a2"
      },
      "outputs": [
        {
          "output_type": "stream",
          "name": "stdout",
          "text": [
            "\"5\",\"0\",\"<>\",\"0\",\"5\"]\n",
            "not possible\n"
          ]
        }
      ],
      "source": [
        "def SymmetricMatrix(strArr):\n",
        "    elements = []\n",
        "    rows = []\n",
        "    for item in strArr:\n",
        "        if item == \"<>\":\n",
        "            if len(elements) > 0:\n",
        "                rows.append(elements)\n",
        "                elements = []\n",
        "        else:\n",
        "            elements.append(item)\n",
        "    if len(elements) > 0:\n",
        "        rows.append(elements)\n",
        "    n = len(rows)  # Number of rows\n",
        "\n",
        "    # Check if the number of elements forms a square matrix\n",
        "    for row in rows:\n",
        "        if len(row) != n:\n",
        "            return \"not possible\"\n",
        "\n",
        "    # Check if the matrix is symmetric\n",
        "    for i in range(n):\n",
        "        for j in range(n):\n",
        "            if rows[i][j] != rows[j][i]:\n",
        "                return \"not symmetric\"\n",
        "\n",
        "    return \"symmetric\"\n",
        "# keep this function call here\n",
        "print(SymmetricMatrix(input()))"
      ]
    },
    {
      "cell_type": "code",
      "source": [
        "print(SymmetricMatrix([\"5\",\"0\",\"<>\",\"0\",\"5\"]))\n",
        "# Output: symmetric\n",
        "\n",
        "print(SymmetricMatrix([\"1\",\"2\",\"4\",\"<>\",\"2\",\"1\",\"1\",\"<>\",\"-4\",\"1\",\"-1\"]))\n",
        "# Output: not symmetric\n"
      ],
      "metadata": {
        "colab": {
          "base_uri": "https://localhost:8080/"
        },
        "id": "-lpBqKE9IfXG",
        "outputId": "1ab734f4-643b-447c-8bac-2df6309fcfc9"
      },
      "execution_count": null,
      "outputs": [
        {
          "output_type": "stream",
          "name": "stdout",
          "text": [
            "symmetric\n",
            "not symmetric\n"
          ]
        }
      ]
    }
  ]
}